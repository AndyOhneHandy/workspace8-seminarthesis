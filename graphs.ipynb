{
 "cells": [
  {
   "cell_type": "code",
   "execution_count": 200,
   "metadata": {},
   "outputs": [],
   "source": [
    "import pandas as pd\n",
    "import numpy\n",
    "import matplotlib.pyplot as plt"
   ]
  },
  {
   "cell_type": "code",
   "execution_count": 201,
   "metadata": {},
   "outputs": [
    {
     "name": "stdout",
     "output_type": "stream",
     "text": [
      "deadline =  10; delta = 0.9; beta = 1; w = 5;\n"
     ]
    }
   ],
   "source": [
    "# Assign Variables\n",
    "\n",
    "deadline = 10\n",
    "periodslist = []\n",
    "\n",
    "delta = 0.9     # Discount Rate\n",
    "beta = 1        # Temporal Bias\n",
    "w = 5        # Required accumulated Effort\n",
    "\n",
    "print(f\"deadline =  {deadline}; delta = {delta}; beta = {beta}; w = {w};\")\n",
    "\n",
    "df = pd.DataFrame()"
   ]
  },
  {
   "cell_type": "code",
   "execution_count": null,
   "metadata": {},
   "outputs": [],
   "source": []
  },
  {
   "cell_type": "code",
   "execution_count": 202,
   "metadata": {},
   "outputs": [],
   "source": [
    "def deltasum(i, n, delta):\n",
    "    output = []\n",
    "    while i <= n:\n",
    "        otemp = delta**i\n",
    "        output += [otemp]\n",
    "        i += 1\n",
    "    return sum(output)"
   ]
  },
  {
   "cell_type": "code",
   "execution_count": 203,
   "metadata": {},
   "outputs": [
    {
     "name": "stdout",
     "output_type": "stream",
     "text": [
      "2.439\n"
     ]
    }
   ],
   "source": [
    "print(deltasum(1,3,0.9))"
   ]
  },
  {
   "cell_type": "code",
   "execution_count": 204,
   "metadata": {},
   "outputs": [
    {
     "name": "stdout",
     "output_type": "stream",
     "text": [
      "[0.12560585083197318, 0.2130452657487758, 0.2917407391738982, 0.3625666652565085, 0.4263099987308575, 0.48367899885777166, 0.5353110989719947, 0.581779989074795, 0.6236019901673155, 0.661241791150584, 0.695117612035526] 5.0\n"
     ]
    },
    {
     "data": {
      "text/plain": [
       "<AxesSubplot:xlabel='Index'>"
      ]
     },
     "execution_count": 204,
     "metadata": {},
     "output_type": "execute_result"
    },
    {
     "data": {
      "image/png": "[encoded data removed]",
      "text/plain": [
       "<Figure size 432x288 with 1 Axes>"
      ]
     },
     "metadata": {
      "needs_background": "light"
     },
     "output_type": "display_data"
    }
   ],
   "source": [
    "i = 0\n",
    "contlist = []\n",
    "indexlist = []\n",
    "while i <= deadline:\n",
    "    cont = 1 - ( ( (deadline + 1 - i) - (w - sum(contlist)) ) / (1 + beta * deltasum(1, deadline - i,delta)) )\n",
    "    contlist += [cont]\n",
    "    indexlist += [i]\n",
    "    i += 1\n",
    "print(contlist, sum(contlist))\n",
    "\n",
    "df['Contributions'] = contlist\n",
    "df['Index'] = indexlist\n",
    "\n",
    "\n",
    "df.plot(y= 'Contributions', x = 'Index', ylim = [-0.1,1])\n"
   ]
  }
 ],
 "metadata": {
  "interpreter": {
   "hash": "916dbcbb3f70747c44a77c7bcd40155683ae19c65e1c03b4aa3499c5328201f1"
  },
  "kernelspec": {
   "display_name": "Python 3.8.10 64-bit",
   "language": "python",
   "name": "python3"
  },
  "language_info": {
   "codemirror_mode": {
    "name": "ipython",
    "version": 3
   },
   "file_extension": ".py",
   "mimetype": "text/x-python",
   "name": "python",
   "nbconvert_exporter": "python",
   "pygments_lexer": "ipython3",
   "version": "3.8.10"
  },
  "orig_nbformat": 4
 },
 "nbformat": 4,
 "nbformat_minor": 2
}
